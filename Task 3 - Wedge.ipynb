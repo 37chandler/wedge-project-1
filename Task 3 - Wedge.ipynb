{
 "cells": [
  {
   "cell_type": "markdown",
   "metadata": {},
   "source": [
    "## TASK 3"
   ]
  },
  {
   "cell_type": "code",
   "execution_count": null,
   "metadata": {},
   "outputs": [],
   "source": [
    "import pandas_gbq\n",
    "import os\n",
    "import pandas as pd\n",
    "from google.oauth2 import service_account\n",
    "from google.cloud import bigquery\n",
    "from google.cloud import storage\n",
    "import numpy as np\n",
    "import sqlite3\n",
    "\n",
    "\n",
    "\n"
   ]
  },
  {
   "cell_type": "code",
   "execution_count": null,
   "metadata": {},
   "outputs": [],
   "source": [
    "# Read CSVs in chunks and upload to BigQuery\n",
    "credentials_path = r\"C:\\Users\\britt\\OneDrive - The University of Montana\\Applied Data Analytics\\Wedge Project\\wedge-project-bt-b14310631abc.json\"\n",
    "credentials = service_account.Credentials.from_service_account_file(credentials_path)\n",
    "gbq_proj_id = \"wedge-project-bt\"\n",
    "dataset_id = \"wedge_data\""
   ]
  },
  {
   "cell_type": "code",
   "execution_count": null,
   "metadata": {},
   "outputs": [],
   "source": [
    "#Query 1\n",
    "\n",
    "query = \"\"\"SELECT\n",
    "  EXTRACT(DATE\n",
    "  FROM\n",
    "    datetime) AS date,\n",
    "    EXTRACT(HOUR FROM datetime) AS hour,\n",
    " ROUND(SUM(total),2) AS spend,\n",
    "  COUNT(DISTINCT CONCAT(EXTRACT(DATE\n",
    "        FROM\n",
    "          datetime), \n",
    "          register_no, emp_no, trans_no)) AS trans,\n",
    "  SUM(CASE\n",
    "      WHEN trans_status IN ('V', 'R') THEN -1\n",
    "    ELSE\n",
    "    1\n",
    "  END\n",
    "    ) AS items\n",
    "FROM\n",
    "  `wedge_transactions.transArchive*`\n",
    "WHERE\n",
    "  department NOT IN (0,\n",
    "    15)\n",
    "  AND (trans_status IS  NULL\n",
    "  OR trans_status IN (' ','V','R'))\n",
    "GROUP BY\n",
    "  date, hour\n",
    "  ORDER BY \n",
    "  date, hour;\n",
    "  \"\"\"\n"
   ]
  },
  {
   "cell_type": "code",
   "execution_count": null,
   "metadata": {},
   "outputs": [],
   "source": [
    "# Path to service account JSON key file\n",
    "conn = sqlite3.connect('wedge-reporting.db')\n"
   ]
  },
  {
   "cell_type": "code",
   "execution_count": null,
   "metadata": {},
   "outputs": [],
   "source": [
    "holder = pandas_gbq.read_gbq(query, project_id=gbq_proj_id, credentials=credentials)    "
   ]
  },
  {
   "cell_type": "code",
   "execution_count": null,
   "metadata": {},
   "outputs": [],
   "source": [
    "holder.head()"
   ]
  },
  {
   "cell_type": "code",
   "execution_count": null,
   "metadata": {},
   "outputs": [],
   "source": [
    "holder.to_sql('date-hour', conn, if_exists='replace', index=False)"
   ]
  },
  {
   "cell_type": "code",
   "execution_count": null,
   "metadata": {},
   "outputs": [],
   "source": [
    "#Query 2 \n",
    "\n",
    "query2 = \"\"\"SELECT DISTINCT card_no,\n",
    "   EXTRACT(YEAR FROM datetime) AS year,\n",
    "    EXTRACT(MONTH FROM datetime) AS month,\n",
    "  SUM(total) AS spend,\n",
    "  COUNT(DISTINCT CONCAT(EXTRACT(DATE\n",
    "        FROM\n",
    "          datetime), \n",
    "          register_no, emp_no, trans_no)) AS trans,\n",
    "  SUM(CASE\n",
    "      WHEN trans_status IN ('V', 'R') THEN -1\n",
    "    ELSE\n",
    "    1\n",
    "  END\n",
    "    ) AS items\n",
    "FROM\n",
    "  `wedge_transactions.transArchive*`\n",
    "WHERE\n",
    "  department NOT IN (0,\n",
    "    15)\n",
    "  AND  card_no != 3\n",
    "  AND (trans_status IS  NULL\n",
    "  OR trans_status IN (' ','V','R'))\n",
    "GROUP BY\n",
    "  card_no, year, month\n",
    "  ORDER BY \n",
    " card_no, year, month;\n",
    "  \"\"\"\n"
   ]
  },
  {
   "cell_type": "code",
   "execution_count": null,
   "metadata": {},
   "outputs": [],
   "source": [
    "holder = pandas_gbq.read_gbq(query2, project_id=gbq_proj_id, credentials=credentials)    "
   ]
  },
  {
   "cell_type": "code",
   "execution_count": null,
   "metadata": {},
   "outputs": [],
   "source": [
    "holder.head()"
   ]
  },
  {
   "cell_type": "code",
   "execution_count": null,
   "metadata": {},
   "outputs": [],
   "source": [
    "holder.to_sql('owner-sales', conn, if_exists='replace', index=False) "
   ]
  },
  {
   "cell_type": "code",
   "execution_count": null,
   "metadata": {},
   "outputs": [],
   "source": [
    "#Query 3 \n",
    "\n",
    "query3 = \"\"\"SELECT upc,\n",
    "  description,\n",
    "  w.department,\n",
    "  dept_name,\n",
    "   EXTRACT(YEAR FROM datetime) AS year,\n",
    "    EXTRACT(MONTH FROM datetime) AS month,\n",
    "  ROUND(SUM(total),2) AS sales,\n",
    "  COUNT(DISTINCT CONCAT(EXTRACT(DATE\n",
    "        FROM\n",
    "          datetime), \n",
    "          register_no, emp_no, trans_no)) AS trans,\n",
    "  SUM(CASE\n",
    "      WHEN trans_status IN ('V', 'R') THEN -1\n",
    "    ELSE\n",
    "    1\n",
    "  END\n",
    "    ) AS items\n",
    "FROM\n",
    "  `wedge_transactions.transArchive*` AS w\n",
    "JOIN `wedge_transactions.department_lookup` AS d\n",
    "ON w.department = d.department\n",
    "WHERE\n",
    "  w.department NOT IN (0,\n",
    "    15)\n",
    "  AND  card_no != 3\n",
    "  AND (trans_status IS  NULL\n",
    "  OR trans_status IN (' ','V','R'))\n",
    "GROUP BY\n",
    "  upc,description,w.department, dept_name, year, month \n",
    "ORDER BY \n",
    " sales DESC, description, year, month;\n",
    "  \"\"\"\n"
   ]
  },
  {
   "cell_type": "code",
   "execution_count": null,
   "metadata": {},
   "outputs": [],
   "source": [
    "holder = pandas_gbq.read_gbq(query3, project_id=gbq_proj_id, credentials=credentials)    "
   ]
  },
  {
   "cell_type": "code",
   "execution_count": null,
   "metadata": {},
   "outputs": [],
   "source": [
    "holder.head()"
   ]
  },
  {
   "cell_type": "code",
   "execution_count": null,
   "metadata": {},
   "outputs": [],
   "source": [
    "holder.to_sql('product-sales', conn, if_exists='replace', index=False) "
   ]
  }
 ],
 "metadata": {
  "language_info": {
   "name": "python"
  }
 },
 "nbformat": 4,
 "nbformat_minor": 2
}
