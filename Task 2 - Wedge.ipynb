{
 "cells": [
  {
   "cell_type": "markdown",
   "metadata": {},
   "source": [
    "## Task 2"
   ]
  },
  {
   "cell_type": "code",
   "execution_count": null,
   "metadata": {},
   "outputs": [],
   "source": [
    "import pandas_gbq\n",
    "import os\n",
    "import pandas as pd\n",
    "from google.oauth2 import service_account\n",
    "from google.cloud import bigquery\n",
    "from google.cloud import storage\n",
    "import numpy as np\n",
    "import sqlite3\n",
    "import zipfile\n"
   ]
  },
  {
   "cell_type": "code",
   "execution_count": null,
   "metadata": {},
   "outputs": [],
   "source": [
    "# Read CSVs in chunks and upload to BigQuery\n",
    "credentials_path = r\"C:\\Users\\britt\\OneDrive - The University of Montana\\Applied Data Analytics\\Wedge Project\\wedge-project-bt-b14310631abc.json\"\n",
    "credentials = service_account.Credentials.from_service_account_file(credentials_path)\n",
    "gbq_proj_id = \"wedge-project-bt\"\n",
    "dataset_id = \"wedge_data\"\n",
    "client = bigquery.Client(credentials=credentials, project= gbq_proj_id)\n"
   ]
  },
  {
   "cell_type": "code",
   "execution_count": null,
   "metadata": {},
   "outputs": [],
   "source": [
    "\n",
    "# SQL query\n",
    "query = \"\"\"\n",
    "WITH rand_cte AS(\n",
    "SELECT DISTINCT card_no\n",
    "  FROM `wedge-project-bt.transArchive_*` \n",
    "  WHERE card_no != 3\n",
    "  ORDER BY RAND()\n",
    "  LIMIT 601)\n",
    "\n",
    "  SELECT *\n",
    "  FROM `wedge_data.transArchive_*` AS trans\n",
    "  JOIN rand_cte \n",
    "  ON rand_cte.card_no = trans.card_no\n",
    "\"\"\"\n",
    "\n",
    "# Run the query and get the result as a dataframe\n",
    "df = client.query(query).to_dataframe(create_bqstorage_client=False)\n",
    "\n",
    "# Save the dataframe to a TXT file\n",
    "df.to_csv(\"output_data1.txt\", index=False)"
   ]
  }
 ],
 "metadata": {
  "language_info": {
   "name": "python"
  }
 },
 "nbformat": 4,
 "nbformat_minor": 2
}
